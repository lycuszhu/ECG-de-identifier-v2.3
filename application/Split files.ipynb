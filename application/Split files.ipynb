{
 "cells": [
  {
   "cell_type": "code",
   "execution_count": 22,
   "id": "97b0bcd5-294b-4440-9a6a-8e92c80df379",
   "metadata": {},
   "outputs": [
    {
     "name": "stdout",
     "output_type": "stream",
     "text": [
      "Moved 14175 files into 2 folders.\n"
     ]
    }
   ],
   "source": [
    "import os, shutil\n",
    "\n",
    "src_folder = r\"H:\\Waitemata ECG XML database\\Philips\\2025\"\n",
    "num_groups = 2\n",
    "files = [f for f in os.listdir(src_folder) if os.path.isfile(os.path.join(src_folder, f))]\n",
    "\n",
    "for i in range(num_groups):\n",
    "    os.makedirs(os.path.join(src_folder, str(i+1)), exist_ok=True)\n",
    "\n",
    "for index, filename in enumerate(files):\n",
    "    group = index % num_groups + 1\n",
    "    shutil.move(os.path.join(src_folder, filename), os.path.join(src_folder, str(group), filename))\n",
    "\n",
    "print(f\"Moved {len(files)} files into {num_groups} folders.\")\n"
   ]
  },
  {
   "cell_type": "code",
   "execution_count": null,
   "id": "2074bacd-9228-41a1-8dfe-cbc16c7e152c",
   "metadata": {},
   "outputs": [],
   "source": []
  }
 ],
 "metadata": {
  "kernelspec": {
   "display_name": "Python 3 (ipykernel)",
   "language": "python",
   "name": "python3"
  },
  "language_info": {
   "codemirror_mode": {
    "name": "ipython",
    "version": 3
   },
   "file_extension": ".py",
   "mimetype": "text/x-python",
   "name": "python",
   "nbconvert_exporter": "python",
   "pygments_lexer": "ipython3",
   "version": "3.11.9"
  }
 },
 "nbformat": 4,
 "nbformat_minor": 5
}
